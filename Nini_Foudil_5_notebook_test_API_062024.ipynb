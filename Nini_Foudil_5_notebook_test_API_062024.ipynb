{
 "cells": [
  {
   "cell_type": "code",
   "execution_count": 1,
   "id": "6767a3d3",
   "metadata": {},
   "outputs": [],
   "source": [
    "import pickle\n",
    "import pandas as pd\n",
    "import traceback\n",
    "import requests"
   ]
  },
  {
   "cell_type": "code",
   "execution_count": 2,
   "id": "4954e74e",
   "metadata": {},
   "outputs": [
    {
     "name": "stdout",
     "output_type": "stream",
     "text": [
      "Modèle chargé avec succès.\n",
      "Données chargées avec succès.\n"
     ]
    }
   ],
   "source": [
    "# Essayer de charger le modèle de scoring\n",
    "try:\n",
    "    with open('best_gb.pkl', 'rb') as f:\n",
    "        model = pickle.load(f)\n",
    "    print(\"Modèle chargé avec succès.\")\n",
    "except Exception as e:\n",
    "    print(\"Erreur lors du chargement du modèle :\", e)\n",
    "    print(traceback.format_exc())\n",
    "\n",
    "# Essayer de charger les données du fichier CSV\n",
    "try:\n",
    "    df = pd.read_csv('cleaned_application_test.csv')\n",
    "    print(\"Données chargées avec succès.\")\n",
    "except Exception as e:\n",
    "    print(\"Erreur lors du chargement des données :\", e)\n",
    "    print(traceback.format_exc())\n"
   ]
  },
  {
   "cell_type": "code",
   "execution_count": 3,
   "id": "5e77c616",
   "metadata": {},
   "outputs": [
    {
     "name": "stdout",
     "output_type": "stream",
     "text": [
      "Status code: 200\n",
      "Response content: b'{\"class\":\"accepted\",\"probability\":0.2288810112143702}\\n'\n",
      "Prediction for client 104503: {'class': 'accepted', 'probability': 0.2288810112143702}\n"
     ]
    }
   ],
   "source": [
    "\n",
    "\n",
    "# Fonction pour faire une requête à l'API et obtenir des prédictions pour un client spécifique\n",
    "def get_client_prediction(client_id, api_url):\n",
    "    try:\n",
    "        data = {\"client_id\": client_id}\n",
    "        response = requests.post(api_url, json=data)\n",
    "        print(f\"Status code: {response.status_code}\")  # Afficher le code de statut HTTP\n",
    "        print(f\"Response content: {response.content}\")  # Afficher le contenu de la réponse\n",
    "        if response.status_code == 200:\n",
    "            return response.json()\n",
    "        else:\n",
    "            return None\n",
    "    except requests.exceptions.RequestException as e:\n",
    "        print(f\"Request failed: {e}\")\n",
    "        return None\n",
    "\n",
    "# URL de l'API (à remplacer par l'URL réelle de votre API)\n",
    "api_url = \"https://apiclient-8a64245f0dbf.herokuapp.com/predict\"\n",
    "\n",
    "# Sélectionner un client pour la prédiction\n",
    "client_id = 104503# Remplacez par l'ID du client que vous souhaitez prédire\n",
    "\n",
    "# Obtenir la prédiction pour le client sélectionné\n",
    "prediction = get_client_prediction(client_id, api_url)\n",
    "\n",
    "# Afficher la prédiction\n",
    "if prediction:\n",
    "    print(f\"Prediction for client {client_id}: {prediction}\")\n",
    "else:\n",
    "    print(f\"Failed to get prediction for client {client_id}.\")\n"
   ]
  },
  {
   "cell_type": "code",
   "execution_count": 5,
   "id": "bdfaee08",
   "metadata": {},
   "outputs": [
    {
     "name": "stdout",
     "output_type": "stream",
     "text": [
      "Le modèle a été chargé avec succès.\n"
     ]
    }
   ],
   "source": [
    "# import joblib\n",
    "\n",
    "# try:\n",
    "#     model = joblib.load('best_gb.pkl')\n",
    "#     print(\"Le modèle a été chargé avec succès.\")\n",
    "# except aException as e:\n",
    "#     print(f\"Erreur lors du chargement du modèle : {e}\")\n"
   ]
  },
  {
   "cell_type": "code",
   "execution_count": null,
   "id": "ad6cd2db",
   "metadata": {},
   "outputs": [],
   "source": []
  }
 ],
 "metadata": {
  "kernelspec": {
   "display_name": "Python 3 (ipykernel)",
   "language": "python",
   "name": "python3"
  },
  "language_info": {
   "codemirror_mode": {
    "name": "ipython",
    "version": 3
   },
   "file_extension": ".py",
   "mimetype": "text/x-python",
   "name": "python",
   "nbconvert_exporter": "python",
   "pygments_lexer": "ipython3",
   "version": "3.11.4"
  }
 },
 "nbformat": 4,
 "nbformat_minor": 5
}
